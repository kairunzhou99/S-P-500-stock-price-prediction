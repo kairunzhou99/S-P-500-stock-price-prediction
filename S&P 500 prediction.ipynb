{
 "cells": [
  {
   "cell_type": "markdown",
   "id": "39496a9e",
   "metadata": {},
   "source": [
    "# 1. Download S&P 500 price data"
   ]
  },
  {
   "cell_type": "code",
   "execution_count": 2,
   "id": "b4b87c77",
   "metadata": {},
   "outputs": [
    {
     "name": "stdout",
     "output_type": "stream",
     "text": [
      "Collecting yfinance\n",
      "  Downloading yfinance-0.2.56-py2.py3-none-any.whl (113 kB)\n",
      "\u001b[K     |████████████████████████████████| 113 kB 3.9 MB/s eta 0:00:01\n",
      "\u001b[?25hRequirement already satisfied: pandas>=1.3.0 in /Users/Kairun/opt/anaconda3/lib/python3.9/site-packages (from yfinance) (1.4.2)\n",
      "Collecting requests>=2.31\n",
      "  Downloading requests-2.32.3-py3-none-any.whl (64 kB)\n",
      "\u001b[K     |████████████████████████████████| 64 kB 22.8 MB/s eta 0:00:01\n",
      "\u001b[?25hRequirement already satisfied: beautifulsoup4>=4.11.1 in /Users/Kairun/opt/anaconda3/lib/python3.9/site-packages (from yfinance) (4.11.1)\n",
      "Collecting platformdirs>=2.0.0\n",
      "  Downloading platformdirs-4.3.7-py3-none-any.whl (18 kB)\n",
      "Collecting frozendict>=2.3.4\n",
      "  Downloading frozendict-2.4.6-cp39-cp39-macosx_10_9_x86_64.whl (38 kB)\n",
      "Collecting pytz>=2022.5\n",
      "  Downloading pytz-2025.2-py2.py3-none-any.whl (509 kB)\n",
      "\u001b[K     |████████████████████████████████| 509 kB 22.8 MB/s eta 0:00:01\n",
      "\u001b[?25hCollecting peewee>=3.16.2\n",
      "  Downloading peewee-3.17.9.tar.gz (3.0 MB)\n",
      "\u001b[K     |████████████████████████████████| 3.0 MB 26.1 MB/s eta 0:00:01\n",
      "\u001b[?25h  Installing build dependencies ... \u001b[?25ldone\n",
      "\u001b[?25h  Getting requirements to build wheel ... \u001b[?25ldone\n",
      "\u001b[?25h    Preparing wheel metadata ... \u001b[?25ldone\n",
      "\u001b[?25hCollecting multitasking>=0.0.7\n",
      "  Downloading multitasking-0.0.11-py3-none-any.whl (8.5 kB)\n",
      "Requirement already satisfied: numpy>=1.16.5 in /Users/Kairun/opt/anaconda3/lib/python3.9/site-packages (from yfinance) (1.21.5)\n",
      "Requirement already satisfied: soupsieve>1.2 in /Users/Kairun/opt/anaconda3/lib/python3.9/site-packages (from beautifulsoup4>=4.11.1->yfinance) (2.3.1)\n",
      "Requirement already satisfied: python-dateutil>=2.8.1 in /Users/Kairun/opt/anaconda3/lib/python3.9/site-packages (from pandas>=1.3.0->yfinance) (2.8.2)\n",
      "Requirement already satisfied: six>=1.5 in /Users/Kairun/opt/anaconda3/lib/python3.9/site-packages (from python-dateutil>=2.8.1->pandas>=1.3.0->yfinance) (1.16.0)\n",
      "Requirement already satisfied: urllib3<3,>=1.21.1 in /Users/Kairun/opt/anaconda3/lib/python3.9/site-packages (from requests>=2.31->yfinance) (1.26.9)\n",
      "Requirement already satisfied: certifi>=2017.4.17 in /Users/Kairun/opt/anaconda3/lib/python3.9/site-packages (from requests>=2.31->yfinance) (2021.10.8)\n",
      "Requirement already satisfied: charset-normalizer<4,>=2 in /Users/Kairun/opt/anaconda3/lib/python3.9/site-packages (from requests>=2.31->yfinance) (2.0.4)\n",
      "Requirement already satisfied: idna<4,>=2.5 in /Users/Kairun/opt/anaconda3/lib/python3.9/site-packages (from requests>=2.31->yfinance) (3.3)\n",
      "Building wheels for collected packages: peewee\n",
      "  Building wheel for peewee (PEP 517) ... \u001b[?25ldone\n",
      "\u001b[?25h  Created wheel for peewee: filename=peewee-3.17.9-cp39-cp39-macosx_10_9_x86_64.whl size=275098 sha256=4d3a009f21e812c3712d38dde629eb14392b0dc7c180dbcf12be88c530a33914\n",
      "  Stored in directory: /Users/Kairun/Library/Caches/pip/wheels/95/bb/20/859b0853d3683815ccb6342d9ac5a49380a681c96285821184\n",
      "Successfully built peewee\n",
      "Installing collected packages: pytz, requests, platformdirs, peewee, multitasking, frozendict, yfinance\n",
      "  Attempting uninstall: pytz\n",
      "    Found existing installation: pytz 2021.3\n",
      "    Uninstalling pytz-2021.3:\n",
      "      Successfully uninstalled pytz-2021.3\n",
      "  Attempting uninstall: requests\n",
      "    Found existing installation: requests 2.27.1\n",
      "    Uninstalling requests-2.27.1:\n",
      "      Successfully uninstalled requests-2.27.1\n",
      "\u001b[31mERROR: pip's dependency resolver does not currently take into account all the packages that are installed. This behaviour is the source of the following dependency conflicts.\n",
      "conda-repo-cli 1.0.4 requires pathlib, which is not installed.\u001b[0m\n",
      "Successfully installed frozendict-2.4.6 multitasking-0.0.11 peewee-3.17.9 platformdirs-4.3.7 pytz-2025.2 requests-2.32.3 yfinance-0.2.56\n",
      "Note: you may need to restart the kernel to use updated packages.\n"
     ]
    }
   ],
   "source": [
    "pip install yfinance"
   ]
  },
  {
   "cell_type": "code",
   "execution_count": 26,
   "id": "1f6da268",
   "metadata": {},
   "outputs": [],
   "source": [
    "import yfinance as yf\n",
    "import pandas as pd"
   ]
  },
  {
   "cell_type": "code",
   "execution_count": 4,
   "id": "32aedb68",
   "metadata": {},
   "outputs": [],
   "source": [
    "#Ticker class enable us to download price history for a single symbol\n",
    "#GSPC symbol is for S&P 500 index\n",
    "sp500 = yf.Ticker(\"^GSPC\") "
   ]
  },
  {
   "cell_type": "code",
   "execution_count": 5,
   "id": "b5b0238f",
   "metadata": {},
   "outputs": [],
   "source": [
    "#Query historical prices, query all data from the very beginning when the index was created\n",
    "sp500=sp500.history(period=\"max\")"
   ]
  },
  {
   "cell_type": "code",
   "execution_count": 6,
   "id": "2883ea1f",
   "metadata": {
    "scrolled": true
   },
   "outputs": [
    {
     "data": {
      "text/html": [
       "<div>\n",
       "<style scoped>\n",
       "    .dataframe tbody tr th:only-of-type {\n",
       "        vertical-align: middle;\n",
       "    }\n",
       "\n",
       "    .dataframe tbody tr th {\n",
       "        vertical-align: top;\n",
       "    }\n",
       "\n",
       "    .dataframe thead th {\n",
       "        text-align: right;\n",
       "    }\n",
       "</style>\n",
       "<table border=\"1\" class=\"dataframe\">\n",
       "  <thead>\n",
       "    <tr style=\"text-align: right;\">\n",
       "      <th></th>\n",
       "      <th>Open</th>\n",
       "      <th>High</th>\n",
       "      <th>Low</th>\n",
       "      <th>Close</th>\n",
       "      <th>Volume</th>\n",
       "      <th>Dividends</th>\n",
       "      <th>Stock Splits</th>\n",
       "    </tr>\n",
       "    <tr>\n",
       "      <th>Date</th>\n",
       "      <th></th>\n",
       "      <th></th>\n",
       "      <th></th>\n",
       "      <th></th>\n",
       "      <th></th>\n",
       "      <th></th>\n",
       "      <th></th>\n",
       "    </tr>\n",
       "  </thead>\n",
       "  <tbody>\n",
       "    <tr>\n",
       "      <th>1927-12-30 00:00:00-05:00</th>\n",
       "      <td>17.660000</td>\n",
       "      <td>17.660000</td>\n",
       "      <td>17.660000</td>\n",
       "      <td>17.660000</td>\n",
       "      <td>0</td>\n",
       "      <td>0.0</td>\n",
       "      <td>0.0</td>\n",
       "    </tr>\n",
       "    <tr>\n",
       "      <th>1928-01-03 00:00:00-05:00</th>\n",
       "      <td>17.760000</td>\n",
       "      <td>17.760000</td>\n",
       "      <td>17.760000</td>\n",
       "      <td>17.760000</td>\n",
       "      <td>0</td>\n",
       "      <td>0.0</td>\n",
       "      <td>0.0</td>\n",
       "    </tr>\n",
       "    <tr>\n",
       "      <th>1928-01-04 00:00:00-05:00</th>\n",
       "      <td>17.719999</td>\n",
       "      <td>17.719999</td>\n",
       "      <td>17.719999</td>\n",
       "      <td>17.719999</td>\n",
       "      <td>0</td>\n",
       "      <td>0.0</td>\n",
       "      <td>0.0</td>\n",
       "    </tr>\n",
       "    <tr>\n",
       "      <th>1928-01-05 00:00:00-05:00</th>\n",
       "      <td>17.549999</td>\n",
       "      <td>17.549999</td>\n",
       "      <td>17.549999</td>\n",
       "      <td>17.549999</td>\n",
       "      <td>0</td>\n",
       "      <td>0.0</td>\n",
       "      <td>0.0</td>\n",
       "    </tr>\n",
       "    <tr>\n",
       "      <th>1928-01-06 00:00:00-05:00</th>\n",
       "      <td>17.660000</td>\n",
       "      <td>17.660000</td>\n",
       "      <td>17.660000</td>\n",
       "      <td>17.660000</td>\n",
       "      <td>0</td>\n",
       "      <td>0.0</td>\n",
       "      <td>0.0</td>\n",
       "    </tr>\n",
       "    <tr>\n",
       "      <th>...</th>\n",
       "      <td>...</td>\n",
       "      <td>...</td>\n",
       "      <td>...</td>\n",
       "      <td>...</td>\n",
       "      <td>...</td>\n",
       "      <td>...</td>\n",
       "      <td>...</td>\n",
       "    </tr>\n",
       "    <tr>\n",
       "      <th>2025-04-21 00:00:00-04:00</th>\n",
       "      <td>5232.939941</td>\n",
       "      <td>5232.939941</td>\n",
       "      <td>5101.629883</td>\n",
       "      <td>5158.200195</td>\n",
       "      <td>4226340000</td>\n",
       "      <td>0.0</td>\n",
       "      <td>0.0</td>\n",
       "    </tr>\n",
       "    <tr>\n",
       "      <th>2025-04-22 00:00:00-04:00</th>\n",
       "      <td>5207.669922</td>\n",
       "      <td>5309.609863</td>\n",
       "      <td>5207.669922</td>\n",
       "      <td>5287.759766</td>\n",
       "      <td>4666950000</td>\n",
       "      <td>0.0</td>\n",
       "      <td>0.0</td>\n",
       "    </tr>\n",
       "    <tr>\n",
       "      <th>2025-04-23 00:00:00-04:00</th>\n",
       "      <td>5395.919922</td>\n",
       "      <td>5469.689941</td>\n",
       "      <td>5356.169922</td>\n",
       "      <td>5375.859863</td>\n",
       "      <td>5371390000</td>\n",
       "      <td>0.0</td>\n",
       "      <td>0.0</td>\n",
       "    </tr>\n",
       "    <tr>\n",
       "      <th>2025-04-24 00:00:00-04:00</th>\n",
       "      <td>5381.379883</td>\n",
       "      <td>5489.399902</td>\n",
       "      <td>5371.959961</td>\n",
       "      <td>5484.770020</td>\n",
       "      <td>4697710000</td>\n",
       "      <td>0.0</td>\n",
       "      <td>0.0</td>\n",
       "    </tr>\n",
       "    <tr>\n",
       "      <th>2025-04-25 00:00:00-04:00</th>\n",
       "      <td>5489.729980</td>\n",
       "      <td>5528.109863</td>\n",
       "      <td>5455.859863</td>\n",
       "      <td>5525.209961</td>\n",
       "      <td>4236580000</td>\n",
       "      <td>0.0</td>\n",
       "      <td>0.0</td>\n",
       "    </tr>\n",
       "  </tbody>\n",
       "</table>\n",
       "<p>24445 rows × 7 columns</p>\n",
       "</div>"
      ],
      "text/plain": [
       "                                  Open         High          Low        Close  \\\n",
       "Date                                                                            \n",
       "1927-12-30 00:00:00-05:00    17.660000    17.660000    17.660000    17.660000   \n",
       "1928-01-03 00:00:00-05:00    17.760000    17.760000    17.760000    17.760000   \n",
       "1928-01-04 00:00:00-05:00    17.719999    17.719999    17.719999    17.719999   \n",
       "1928-01-05 00:00:00-05:00    17.549999    17.549999    17.549999    17.549999   \n",
       "1928-01-06 00:00:00-05:00    17.660000    17.660000    17.660000    17.660000   \n",
       "...                                ...          ...          ...          ...   \n",
       "2025-04-21 00:00:00-04:00  5232.939941  5232.939941  5101.629883  5158.200195   \n",
       "2025-04-22 00:00:00-04:00  5207.669922  5309.609863  5207.669922  5287.759766   \n",
       "2025-04-23 00:00:00-04:00  5395.919922  5469.689941  5356.169922  5375.859863   \n",
       "2025-04-24 00:00:00-04:00  5381.379883  5489.399902  5371.959961  5484.770020   \n",
       "2025-04-25 00:00:00-04:00  5489.729980  5528.109863  5455.859863  5525.209961   \n",
       "\n",
       "                               Volume  Dividends  Stock Splits  \n",
       "Date                                                            \n",
       "1927-12-30 00:00:00-05:00           0        0.0           0.0  \n",
       "1928-01-03 00:00:00-05:00           0        0.0           0.0  \n",
       "1928-01-04 00:00:00-05:00           0        0.0           0.0  \n",
       "1928-01-05 00:00:00-05:00           0        0.0           0.0  \n",
       "1928-01-06 00:00:00-05:00           0        0.0           0.0  \n",
       "...                               ...        ...           ...  \n",
       "2025-04-21 00:00:00-04:00  4226340000        0.0           0.0  \n",
       "2025-04-22 00:00:00-04:00  4666950000        0.0           0.0  \n",
       "2025-04-23 00:00:00-04:00  5371390000        0.0           0.0  \n",
       "2025-04-24 00:00:00-04:00  4697710000        0.0           0.0  \n",
       "2025-04-25 00:00:00-04:00  4236580000        0.0           0.0  \n",
       "\n",
       "[24445 rows x 7 columns]"
      ]
     },
     "execution_count": 6,
     "metadata": {},
     "output_type": "execute_result"
    }
   ],
   "source": [
    "sp500"
   ]
  },
  {
   "cell_type": "markdown",
   "id": "a668ad84",
   "metadata": {},
   "source": [
    "In the DataFrame, each row is the price on a single trading day, so non_trading day are not included in this data. The columns are the opening price so the price when the market opened, the highest price duraing the day, the lowest price during the day, the closing price when the exchange closed and the volume traded in that day. We will only focuse on these columns to predict if the stock price will go up or down tomorrow. The remaining columns (Dividends and Stock Splits), we will not use them and we will actually remove them later."
   ]
  },
  {
   "cell_type": "code",
   "execution_count": 7,
   "id": "a64bfe86",
   "metadata": {},
   "outputs": [
    {
     "data": {
      "text/plain": [
       "DatetimeIndex(['1927-12-30 00:00:00-05:00', '1928-01-03 00:00:00-05:00',\n",
       "               '1928-01-04 00:00:00-05:00', '1928-01-05 00:00:00-05:00',\n",
       "               '1928-01-06 00:00:00-05:00', '1928-01-09 00:00:00-05:00',\n",
       "               '1928-01-10 00:00:00-05:00', '1928-01-11 00:00:00-05:00',\n",
       "               '1928-01-12 00:00:00-05:00', '1928-01-13 00:00:00-05:00',\n",
       "               ...\n",
       "               '2025-04-11 00:00:00-04:00', '2025-04-14 00:00:00-04:00',\n",
       "               '2025-04-15 00:00:00-04:00', '2025-04-16 00:00:00-04:00',\n",
       "               '2025-04-17 00:00:00-04:00', '2025-04-21 00:00:00-04:00',\n",
       "               '2025-04-22 00:00:00-04:00', '2025-04-23 00:00:00-04:00',\n",
       "               '2025-04-24 00:00:00-04:00', '2025-04-25 00:00:00-04:00'],\n",
       "              dtype='datetime64[ns, America/New_York]', name='Date', length=24445, freq=None)"
      ]
     },
     "execution_count": 7,
     "metadata": {},
     "output_type": "execute_result"
    }
   ],
   "source": [
    "sp500.index"
   ]
  },
  {
   "cell_type": "markdown",
   "id": "f3ff73ef",
   "metadata": {},
   "source": [
    "The DatetimeIndex is the index on the very left, the date. That column will enable us to index and slice the DataFrame easily."
   ]
  },
  {
   "cell_type": "markdown",
   "id": "2421c383",
   "metadata": {},
   "source": [
    "# 2. Cleaning and visualization of our data"
   ]
  },
  {
   "cell_type": "code",
   "execution_count": 8,
   "id": "919c2140",
   "metadata": {},
   "outputs": [
    {
     "data": {
      "text/plain": [
       "<AxesSubplot:xlabel='Date'>"
      ]
     },
     "execution_count": 8,
     "metadata": {},
     "output_type": "execute_result"
    },
    {
     "data": {
      "image/png": "[encoded data removed]",
      "text/plain": [
       "<Figure size 432x288 with 1 Axes>"
      ]
     },
     "metadata": {
      "needs_background": "light"
     },
     "output_type": "display_data"
    }
   ],
   "source": [
    "#Plot the closing price against the index\n",
    "sp500.plot.line(y=\"Close\", use_index=True)"
   ]
  },
  {
   "cell_type": "code",
   "execution_count": 11,
   "id": "5644e0da",
   "metadata": {},
   "outputs": [],
   "source": [
    "#Delete the extra columns that we do not need \n",
    "del sp500[\"Dividends\"]\n",
    "del sp500[\"Stock Splits\"]"
   ]
  },
  {
   "cell_type": "markdown",
   "id": "afac7c3b",
   "metadata": {},
   "source": [
    "# 3. Set up the target"
   ]
  },
  {
   "cell_type": "code",
   "execution_count": 12,
   "id": "b1cb6629",
   "metadata": {},
   "outputs": [],
   "source": [
    "#Create a column called Tomorrow price by shifting the Close price\n",
    "sp500[\"Tomorrow\"] = sp500[\"Close\"].shift(-1)"
   ]
  },
  {
   "cell_type": "code",
   "execution_count": 13,
   "id": "b6601be0",
   "metadata": {},
   "outputs": [
    {
     "data": {
      "text/html": [
       "<div>\n",
       "<style scoped>\n",
       "    .dataframe tbody tr th:only-of-type {\n",
       "        vertical-align: middle;\n",
       "    }\n",
       "\n",
       "    .dataframe tbody tr th {\n",
       "        vertical-align: top;\n",
       "    }\n",
       "\n",
       "    .dataframe thead th {\n",
       "        text-align: right;\n",
       "    }\n",
       "</style>\n",
       "<table border=\"1\" class=\"dataframe\">\n",
       "  <thead>\n",
       "    <tr style=\"text-align: right;\">\n",
       "      <th></th>\n",
       "      <th>Open</th>\n",
       "      <th>High</th>\n",
       "      <th>Low</th>\n",
       "      <th>Close</th>\n",
       "      <th>Volume</th>\n",
       "      <th>Tomorrow</th>\n",
       "    </tr>\n",
       "    <tr>\n",
       "      <th>Date</th>\n",
       "      <th></th>\n",
       "      <th></th>\n",
       "      <th></th>\n",
       "      <th></th>\n",
       "      <th></th>\n",
       "      <th></th>\n",
       "    </tr>\n",
       "  </thead>\n",
       "  <tbody>\n",
       "    <tr>\n",
       "      <th>1927-12-30 00:00:00-05:00</th>\n",
       "      <td>17.660000</td>\n",
       "      <td>17.660000</td>\n",
       "      <td>17.660000</td>\n",
       "      <td>17.660000</td>\n",
       "      <td>0</td>\n",
       "      <td>17.760000</td>\n",
       "    </tr>\n",
       "    <tr>\n",
       "      <th>1928-01-03 00:00:00-05:00</th>\n",
       "      <td>17.760000</td>\n",
       "      <td>17.760000</td>\n",
       "      <td>17.760000</td>\n",
       "      <td>17.760000</td>\n",
       "      <td>0</td>\n",
       "      <td>17.719999</td>\n",
       "    </tr>\n",
       "    <tr>\n",
       "      <th>1928-01-04 00:00:00-05:00</th>\n",
       "      <td>17.719999</td>\n",
       "      <td>17.719999</td>\n",
       "      <td>17.719999</td>\n",
       "      <td>17.719999</td>\n",
       "      <td>0</td>\n",
       "      <td>17.549999</td>\n",
       "    </tr>\n",
       "    <tr>\n",
       "      <th>1928-01-05 00:00:00-05:00</th>\n",
       "      <td>17.549999</td>\n",
       "      <td>17.549999</td>\n",
       "      <td>17.549999</td>\n",
       "      <td>17.549999</td>\n",
       "      <td>0</td>\n",
       "      <td>17.660000</td>\n",
       "    </tr>\n",
       "    <tr>\n",
       "      <th>1928-01-06 00:00:00-05:00</th>\n",
       "      <td>17.660000</td>\n",
       "      <td>17.660000</td>\n",
       "      <td>17.660000</td>\n",
       "      <td>17.660000</td>\n",
       "      <td>0</td>\n",
       "      <td>17.500000</td>\n",
       "    </tr>\n",
       "    <tr>\n",
       "      <th>...</th>\n",
       "      <td>...</td>\n",
       "      <td>...</td>\n",
       "      <td>...</td>\n",
       "      <td>...</td>\n",
       "      <td>...</td>\n",
       "      <td>...</td>\n",
       "    </tr>\n",
       "    <tr>\n",
       "      <th>2025-04-21 00:00:00-04:00</th>\n",
       "      <td>5232.939941</td>\n",
       "      <td>5232.939941</td>\n",
       "      <td>5101.629883</td>\n",
       "      <td>5158.200195</td>\n",
       "      <td>4226340000</td>\n",
       "      <td>5287.759766</td>\n",
       "    </tr>\n",
       "    <tr>\n",
       "      <th>2025-04-22 00:00:00-04:00</th>\n",
       "      <td>5207.669922</td>\n",
       "      <td>5309.609863</td>\n",
       "      <td>5207.669922</td>\n",
       "      <td>5287.759766</td>\n",
       "      <td>4666950000</td>\n",
       "      <td>5375.859863</td>\n",
       "    </tr>\n",
       "    <tr>\n",
       "      <th>2025-04-23 00:00:00-04:00</th>\n",
       "      <td>5395.919922</td>\n",
       "      <td>5469.689941</td>\n",
       "      <td>5356.169922</td>\n",
       "      <td>5375.859863</td>\n",
       "      <td>5371390000</td>\n",
       "      <td>5484.770020</td>\n",
       "    </tr>\n",
       "    <tr>\n",
       "      <th>2025-04-24 00:00:00-04:00</th>\n",
       "      <td>5381.379883</td>\n",
       "      <td>5489.399902</td>\n",
       "      <td>5371.959961</td>\n",
       "      <td>5484.770020</td>\n",
       "      <td>4697710000</td>\n",
       "      <td>5525.209961</td>\n",
       "    </tr>\n",
       "    <tr>\n",
       "      <th>2025-04-25 00:00:00-04:00</th>\n",
       "      <td>5489.729980</td>\n",
       "      <td>5528.109863</td>\n",
       "      <td>5455.859863</td>\n",
       "      <td>5525.209961</td>\n",
       "      <td>4236580000</td>\n",
       "      <td>NaN</td>\n",
       "    </tr>\n",
       "  </tbody>\n",
       "</table>\n",
       "<p>24445 rows × 6 columns</p>\n",
       "</div>"
      ],
      "text/plain": [
       "                                  Open         High          Low        Close  \\\n",
       "Date                                                                            \n",
       "1927-12-30 00:00:00-05:00    17.660000    17.660000    17.660000    17.660000   \n",
       "1928-01-03 00:00:00-05:00    17.760000    17.760000    17.760000    17.760000   \n",
       "1928-01-04 00:00:00-05:00    17.719999    17.719999    17.719999    17.719999   \n",
       "1928-01-05 00:00:00-05:00    17.549999    17.549999    17.549999    17.549999   \n",
       "1928-01-06 00:00:00-05:00    17.660000    17.660000    17.660000    17.660000   \n",
       "...                                ...          ...          ...          ...   \n",
       "2025-04-21 00:00:00-04:00  5232.939941  5232.939941  5101.629883  5158.200195   \n",
       "2025-04-22 00:00:00-04:00  5207.669922  5309.609863  5207.669922  5287.759766   \n",
       "2025-04-23 00:00:00-04:00  5395.919922  5469.689941  5356.169922  5375.859863   \n",
       "2025-04-24 00:00:00-04:00  5381.379883  5489.399902  5371.959961  5484.770020   \n",
       "2025-04-25 00:00:00-04:00  5489.729980  5528.109863  5455.859863  5525.209961   \n",
       "\n",
       "                               Volume     Tomorrow  \n",
       "Date                                                \n",
       "1927-12-30 00:00:00-05:00           0    17.760000  \n",
       "1928-01-03 00:00:00-05:00           0    17.719999  \n",
       "1928-01-04 00:00:00-05:00           0    17.549999  \n",
       "1928-01-05 00:00:00-05:00           0    17.660000  \n",
       "1928-01-06 00:00:00-05:00           0    17.500000  \n",
       "...                               ...          ...  \n",
       "2025-04-21 00:00:00-04:00  4226340000  5287.759766  \n",
       "2025-04-22 00:00:00-04:00  4666950000  5375.859863  \n",
       "2025-04-23 00:00:00-04:00  5371390000  5484.770020  \n",
       "2025-04-24 00:00:00-04:00  4697710000  5525.209961  \n",
       "2025-04-25 00:00:00-04:00  4236580000          NaN  \n",
       "\n",
       "[24445 rows x 6 columns]"
      ]
     },
     "execution_count": 13,
     "metadata": {},
     "output_type": "execute_result"
    }
   ],
   "source": [
    "sp500"
   ]
  },
  {
   "cell_type": "code",
   "execution_count": 14,
   "id": "3bd049b6",
   "metadata": {},
   "outputs": [],
   "source": [
    "#\"Target\" is what we wanna predict. So we convert it into a integer.\n",
    "sp500[\"Target\"] = (sp500[\"Tomorrow\"] > sp500[\"Close\"]).astype(int)"
   ]
  },
  {
   "cell_type": "code",
   "execution_count": 15,
   "id": "60f3b966",
   "metadata": {},
   "outputs": [
    {
     "data": {
      "text/html": [
       "<div>\n",
       "<style scoped>\n",
       "    .dataframe tbody tr th:only-of-type {\n",
       "        vertical-align: middle;\n",
       "    }\n",
       "\n",
       "    .dataframe tbody tr th {\n",
       "        vertical-align: top;\n",
       "    }\n",
       "\n",
       "    .dataframe thead th {\n",
       "        text-align: right;\n",
       "    }\n",
       "</style>\n",
       "<table border=\"1\" class=\"dataframe\">\n",
       "  <thead>\n",
       "    <tr style=\"text-align: right;\">\n",
       "      <th></th>\n",
       "      <th>Open</th>\n",
       "      <th>High</th>\n",
       "      <th>Low</th>\n",
       "      <th>Close</th>\n",
       "      <th>Volume</th>\n",
       "      <th>Tomorrow</th>\n",
       "      <th>Target</th>\n",
       "    </tr>\n",
       "    <tr>\n",
       "      <th>Date</th>\n",
       "      <th></th>\n",
       "      <th></th>\n",
       "      <th></th>\n",
       "      <th></th>\n",
       "      <th></th>\n",
       "      <th></th>\n",
       "      <th></th>\n",
       "    </tr>\n",
       "  </thead>\n",
       "  <tbody>\n",
       "    <tr>\n",
       "      <th>1927-12-30 00:00:00-05:00</th>\n",
       "      <td>17.660000</td>\n",
       "      <td>17.660000</td>\n",
       "      <td>17.660000</td>\n",
       "      <td>17.660000</td>\n",
       "      <td>0</td>\n",
       "      <td>17.760000</td>\n",
       "      <td>1</td>\n",
       "    </tr>\n",
       "    <tr>\n",
       "      <th>1928-01-03 00:00:00-05:00</th>\n",
       "      <td>17.760000</td>\n",
       "      <td>17.760000</td>\n",
       "      <td>17.760000</td>\n",
       "      <td>17.760000</td>\n",
       "      <td>0</td>\n",
       "      <td>17.719999</td>\n",
       "      <td>0</td>\n",
       "    </tr>\n",
       "    <tr>\n",
       "      <th>1928-01-04 00:00:00-05:00</th>\n",
       "      <td>17.719999</td>\n",
       "      <td>17.719999</td>\n",
       "      <td>17.719999</td>\n",
       "      <td>17.719999</td>\n",
       "      <td>0</td>\n",
       "      <td>17.549999</td>\n",
       "      <td>0</td>\n",
       "    </tr>\n",
       "    <tr>\n",
       "      <th>1928-01-05 00:00:00-05:00</th>\n",
       "      <td>17.549999</td>\n",
       "      <td>17.549999</td>\n",
       "      <td>17.549999</td>\n",
       "      <td>17.549999</td>\n",
       "      <td>0</td>\n",
       "      <td>17.660000</td>\n",
       "      <td>1</td>\n",
       "    </tr>\n",
       "    <tr>\n",
       "      <th>1928-01-06 00:00:00-05:00</th>\n",
       "      <td>17.660000</td>\n",
       "      <td>17.660000</td>\n",
       "      <td>17.660000</td>\n",
       "      <td>17.660000</td>\n",
       "      <td>0</td>\n",
       "      <td>17.500000</td>\n",
       "      <td>0</td>\n",
       "    </tr>\n",
       "    <tr>\n",
       "      <th>...</th>\n",
       "      <td>...</td>\n",
       "      <td>...</td>\n",
       "      <td>...</td>\n",
       "      <td>...</td>\n",
       "      <td>...</td>\n",
       "      <td>...</td>\n",
       "      <td>...</td>\n",
       "    </tr>\n",
       "    <tr>\n",
       "      <th>2025-04-21 00:00:00-04:00</th>\n",
       "      <td>5232.939941</td>\n",
       "      <td>5232.939941</td>\n",
       "      <td>5101.629883</td>\n",
       "      <td>5158.200195</td>\n",
       "      <td>4226340000</td>\n",
       "      <td>5287.759766</td>\n",
       "      <td>1</td>\n",
       "    </tr>\n",
       "    <tr>\n",
       "      <th>2025-04-22 00:00:00-04:00</th>\n",
       "      <td>5207.669922</td>\n",
       "      <td>5309.609863</td>\n",
       "      <td>5207.669922</td>\n",
       "      <td>5287.759766</td>\n",
       "      <td>4666950000</td>\n",
       "      <td>5375.859863</td>\n",
       "      <td>1</td>\n",
       "    </tr>\n",
       "    <tr>\n",
       "      <th>2025-04-23 00:00:00-04:00</th>\n",
       "      <td>5395.919922</td>\n",
       "      <td>5469.689941</td>\n",
       "      <td>5356.169922</td>\n",
       "      <td>5375.859863</td>\n",
       "      <td>5371390000</td>\n",
       "      <td>5484.770020</td>\n",
       "      <td>1</td>\n",
       "    </tr>\n",
       "    <tr>\n",
       "      <th>2025-04-24 00:00:00-04:00</th>\n",
       "      <td>5381.379883</td>\n",
       "      <td>5489.399902</td>\n",
       "      <td>5371.959961</td>\n",
       "      <td>5484.770020</td>\n",
       "      <td>4697710000</td>\n",
       "      <td>5525.209961</td>\n",
       "      <td>1</td>\n",
       "    </tr>\n",
       "    <tr>\n",
       "      <th>2025-04-25 00:00:00-04:00</th>\n",
       "      <td>5489.729980</td>\n",
       "      <td>5528.109863</td>\n",
       "      <td>5455.859863</td>\n",
       "      <td>5525.209961</td>\n",
       "      <td>4236580000</td>\n",
       "      <td>NaN</td>\n",
       "      <td>0</td>\n",
       "    </tr>\n",
       "  </tbody>\n",
       "</table>\n",
       "<p>24445 rows × 7 columns</p>\n",
       "</div>"
      ],
      "text/plain": [
       "                                  Open         High          Low        Close  \\\n",
       "Date                                                                            \n",
       "1927-12-30 00:00:00-05:00    17.660000    17.660000    17.660000    17.660000   \n",
       "1928-01-03 00:00:00-05:00    17.760000    17.760000    17.760000    17.760000   \n",
       "1928-01-04 00:00:00-05:00    17.719999    17.719999    17.719999    17.719999   \n",
       "1928-01-05 00:00:00-05:00    17.549999    17.549999    17.549999    17.549999   \n",
       "1928-01-06 00:00:00-05:00    17.660000    17.660000    17.660000    17.660000   \n",
       "...                                ...          ...          ...          ...   \n",
       "2025-04-21 00:00:00-04:00  5232.939941  5232.939941  5101.629883  5158.200195   \n",
       "2025-04-22 00:00:00-04:00  5207.669922  5309.609863  5207.669922  5287.759766   \n",
       "2025-04-23 00:00:00-04:00  5395.919922  5469.689941  5356.169922  5375.859863   \n",
       "2025-04-24 00:00:00-04:00  5381.379883  5489.399902  5371.959961  5484.770020   \n",
       "2025-04-25 00:00:00-04:00  5489.729980  5528.109863  5455.859863  5525.209961   \n",
       "\n",
       "                               Volume     Tomorrow  Target  \n",
       "Date                                                        \n",
       "1927-12-30 00:00:00-05:00           0    17.760000       1  \n",
       "1928-01-03 00:00:00-05:00           0    17.719999       0  \n",
       "1928-01-04 00:00:00-05:00           0    17.549999       0  \n",
       "1928-01-05 00:00:00-05:00           0    17.660000       1  \n",
       "1928-01-06 00:00:00-05:00           0    17.500000       0  \n",
       "...                               ...          ...     ...  \n",
       "2025-04-21 00:00:00-04:00  4226340000  5287.759766       1  \n",
       "2025-04-22 00:00:00-04:00  4666950000  5375.859863       1  \n",
       "2025-04-23 00:00:00-04:00  5371390000  5484.770020       1  \n",
       "2025-04-24 00:00:00-04:00  4697710000  5525.209961       1  \n",
       "2025-04-25 00:00:00-04:00  4236580000          NaN       0  \n",
       "\n",
       "[24445 rows x 7 columns]"
      ]
     },
     "execution_count": 15,
     "metadata": {},
     "output_type": "execute_result"
    }
   ],
   "source": [
    "sp500"
   ]
  },
  {
   "cell_type": "markdown",
   "id": "6a7279ee",
   "metadata": {},
   "source": [
    "We can see a target column now. When it's a 1 the price went up and when it's a 0 the price went down.\n",
    "\n",
    "Usually a lot of historical data is great but with stock market data if we go back too far  the market could have shifted fundamentally and some of that old data may not be as useful in making future predictions. So what we are going to remove all data that can before 1990."
   ]
  },
  {
   "cell_type": "code",
   "execution_count": 16,
   "id": "bc2a908c",
   "metadata": {},
   "outputs": [],
   "source": [
    "sp500 = sp500.loc[\"1990-01-01\":].copy()"
   ]
  },
  {
   "cell_type": "code",
   "execution_count": 17,
   "id": "8f37da35",
   "metadata": {},
   "outputs": [
    {
     "data": {
      "text/html": [
       "<div>\n",
       "<style scoped>\n",
       "    .dataframe tbody tr th:only-of-type {\n",
       "        vertical-align: middle;\n",
       "    }\n",
       "\n",
       "    .dataframe tbody tr th {\n",
       "        vertical-align: top;\n",
       "    }\n",
       "\n",
       "    .dataframe thead th {\n",
       "        text-align: right;\n",
       "    }\n",
       "</style>\n",
       "<table border=\"1\" class=\"dataframe\">\n",
       "  <thead>\n",
       "    <tr style=\"text-align: right;\">\n",
       "      <th></th>\n",
       "      <th>Open</th>\n",
       "      <th>High</th>\n",
       "      <th>Low</th>\n",
       "      <th>Close</th>\n",
       "      <th>Volume</th>\n",
       "      <th>Tomorrow</th>\n",
       "      <th>Target</th>\n",
       "    </tr>\n",
       "    <tr>\n",
       "      <th>Date</th>\n",
       "      <th></th>\n",
       "      <th></th>\n",
       "      <th></th>\n",
       "      <th></th>\n",
       "      <th></th>\n",
       "      <th></th>\n",
       "      <th></th>\n",
       "    </tr>\n",
       "  </thead>\n",
       "  <tbody>\n",
       "    <tr>\n",
       "      <th>1990-01-02 00:00:00-05:00</th>\n",
       "      <td>353.399994</td>\n",
       "      <td>359.690002</td>\n",
       "      <td>351.980011</td>\n",
       "      <td>359.690002</td>\n",
       "      <td>162070000</td>\n",
       "      <td>358.760010</td>\n",
       "      <td>0</td>\n",
       "    </tr>\n",
       "    <tr>\n",
       "      <th>1990-01-03 00:00:00-05:00</th>\n",
       "      <td>359.690002</td>\n",
       "      <td>360.589996</td>\n",
       "      <td>357.890015</td>\n",
       "      <td>358.760010</td>\n",
       "      <td>192330000</td>\n",
       "      <td>355.670013</td>\n",
       "      <td>0</td>\n",
       "    </tr>\n",
       "    <tr>\n",
       "      <th>1990-01-04 00:00:00-05:00</th>\n",
       "      <td>358.760010</td>\n",
       "      <td>358.760010</td>\n",
       "      <td>352.890015</td>\n",
       "      <td>355.670013</td>\n",
       "      <td>177000000</td>\n",
       "      <td>352.200012</td>\n",
       "      <td>0</td>\n",
       "    </tr>\n",
       "    <tr>\n",
       "      <th>1990-01-05 00:00:00-05:00</th>\n",
       "      <td>355.670013</td>\n",
       "      <td>355.670013</td>\n",
       "      <td>351.350006</td>\n",
       "      <td>352.200012</td>\n",
       "      <td>158530000</td>\n",
       "      <td>353.790009</td>\n",
       "      <td>1</td>\n",
       "    </tr>\n",
       "    <tr>\n",
       "      <th>1990-01-08 00:00:00-05:00</th>\n",
       "      <td>352.200012</td>\n",
       "      <td>354.239990</td>\n",
       "      <td>350.540009</td>\n",
       "      <td>353.790009</td>\n",
       "      <td>140110000</td>\n",
       "      <td>349.619995</td>\n",
       "      <td>0</td>\n",
       "    </tr>\n",
       "    <tr>\n",
       "      <th>...</th>\n",
       "      <td>...</td>\n",
       "      <td>...</td>\n",
       "      <td>...</td>\n",
       "      <td>...</td>\n",
       "      <td>...</td>\n",
       "      <td>...</td>\n",
       "      <td>...</td>\n",
       "    </tr>\n",
       "    <tr>\n",
       "      <th>2025-04-21 00:00:00-04:00</th>\n",
       "      <td>5232.939941</td>\n",
       "      <td>5232.939941</td>\n",
       "      <td>5101.629883</td>\n",
       "      <td>5158.200195</td>\n",
       "      <td>4226340000</td>\n",
       "      <td>5287.759766</td>\n",
       "      <td>1</td>\n",
       "    </tr>\n",
       "    <tr>\n",
       "      <th>2025-04-22 00:00:00-04:00</th>\n",
       "      <td>5207.669922</td>\n",
       "      <td>5309.609863</td>\n",
       "      <td>5207.669922</td>\n",
       "      <td>5287.759766</td>\n",
       "      <td>4666950000</td>\n",
       "      <td>5375.859863</td>\n",
       "      <td>1</td>\n",
       "    </tr>\n",
       "    <tr>\n",
       "      <th>2025-04-23 00:00:00-04:00</th>\n",
       "      <td>5395.919922</td>\n",
       "      <td>5469.689941</td>\n",
       "      <td>5356.169922</td>\n",
       "      <td>5375.859863</td>\n",
       "      <td>5371390000</td>\n",
       "      <td>5484.770020</td>\n",
       "      <td>1</td>\n",
       "    </tr>\n",
       "    <tr>\n",
       "      <th>2025-04-24 00:00:00-04:00</th>\n",
       "      <td>5381.379883</td>\n",
       "      <td>5489.399902</td>\n",
       "      <td>5371.959961</td>\n",
       "      <td>5484.770020</td>\n",
       "      <td>4697710000</td>\n",
       "      <td>5525.209961</td>\n",
       "      <td>1</td>\n",
       "    </tr>\n",
       "    <tr>\n",
       "      <th>2025-04-25 00:00:00-04:00</th>\n",
       "      <td>5489.729980</td>\n",
       "      <td>5528.109863</td>\n",
       "      <td>5455.859863</td>\n",
       "      <td>5525.209961</td>\n",
       "      <td>4236580000</td>\n",
       "      <td>NaN</td>\n",
       "      <td>0</td>\n",
       "    </tr>\n",
       "  </tbody>\n",
       "</table>\n",
       "<p>8895 rows × 7 columns</p>\n",
       "</div>"
      ],
      "text/plain": [
       "                                  Open         High          Low        Close  \\\n",
       "Date                                                                            \n",
       "1990-01-02 00:00:00-05:00   353.399994   359.690002   351.980011   359.690002   \n",
       "1990-01-03 00:00:00-05:00   359.690002   360.589996   357.890015   358.760010   \n",
       "1990-01-04 00:00:00-05:00   358.760010   358.760010   352.890015   355.670013   \n",
       "1990-01-05 00:00:00-05:00   355.670013   355.670013   351.350006   352.200012   \n",
       "1990-01-08 00:00:00-05:00   352.200012   354.239990   350.540009   353.790009   \n",
       "...                                ...          ...          ...          ...   \n",
       "2025-04-21 00:00:00-04:00  5232.939941  5232.939941  5101.629883  5158.200195   \n",
       "2025-04-22 00:00:00-04:00  5207.669922  5309.609863  5207.669922  5287.759766   \n",
       "2025-04-23 00:00:00-04:00  5395.919922  5469.689941  5356.169922  5375.859863   \n",
       "2025-04-24 00:00:00-04:00  5381.379883  5489.399902  5371.959961  5484.770020   \n",
       "2025-04-25 00:00:00-04:00  5489.729980  5528.109863  5455.859863  5525.209961   \n",
       "\n",
       "                               Volume     Tomorrow  Target  \n",
       "Date                                                        \n",
       "1990-01-02 00:00:00-05:00   162070000   358.760010       0  \n",
       "1990-01-03 00:00:00-05:00   192330000   355.670013       0  \n",
       "1990-01-04 00:00:00-05:00   177000000   352.200012       0  \n",
       "1990-01-05 00:00:00-05:00   158530000   353.790009       1  \n",
       "1990-01-08 00:00:00-05:00   140110000   349.619995       0  \n",
       "...                               ...          ...     ...  \n",
       "2025-04-21 00:00:00-04:00  4226340000  5287.759766       1  \n",
       "2025-04-22 00:00:00-04:00  4666950000  5375.859863       1  \n",
       "2025-04-23 00:00:00-04:00  5371390000  5484.770020       1  \n",
       "2025-04-24 00:00:00-04:00  4697710000  5525.209961       1  \n",
       "2025-04-25 00:00:00-04:00  4236580000          NaN       0  \n",
       "\n",
       "[8895 rows x 7 columns]"
      ]
     },
     "execution_count": 17,
     "metadata": {},
     "output_type": "execute_result"
    }
   ],
   "source": [
    "sp500"
   ]
  },
  {
   "cell_type": "markdown",
   "id": "405b104d",
   "metadata": {},
   "source": [
    "# 4. First ML model"
   ]
  },
  {
   "cell_type": "code",
   "execution_count": 18,
   "id": "682ef486",
   "metadata": {},
   "outputs": [],
   "source": [
    "from sklearn.ensemble import RandomForestClassifier"
   ]
  },
  {
   "cell_type": "markdown",
   "id": "13f99923",
   "metadata": {},
   "source": [
    "Random Forests work by training a lot of individual decision trees with randomized parameters and then averaging the results from those decision trees. So because of this process, random forests are resistant to overfitting. They also run quickly and they can pick up non-linear tendencies in the data. As we can see in the DataFrame, the open price is not linearly correlated with the target (if the open price is 4000 versus 300 there is no linear relantionship between the open price and the target).\n",
    "\n",
    "We will train our data with Random Forest Classification (Supervised Learning Model), because we have two possible outputs: 1 if the stock price will go up and 0 if the stock price will go down, in order to buy or sell."
   ]
  },
  {
   "cell_type": "code",
   "execution_count": 20,
   "id": "8f44a6c3",
   "metadata": {},
   "outputs": [],
   "source": [
    "model = RandomForestClassifier(n_estimators=100, min_samples_split=100, random_state=1)"
   ]
  },
  {
   "cell_type": "markdown",
   "id": "19e43de3",
   "metadata": {},
   "source": [
    "n_estimators: number of individual decision trees, the higher the better the accuracy (with a limit).\n",
    "\n",
    "min_samples_splits: helps to protect against overfitting because decision trees have a tendency to overfit if it's buit too deeply. The higher the less accurate the model will be.\n",
    "\n",
    "random_state: if we run the same model twice the random numbers that are generated will be in a predictable sequence each time using this random seed of 1. If we rerun it twice, we'll get the same results."
   ]
  },
  {
   "cell_type": "code",
   "execution_count": 21,
   "id": "663c6ce0",
   "metadata": {},
   "outputs": [],
   "source": [
    "train = sp500.iloc[:-100]\n",
    "test=sp500.iloc[-100:]"
   ]
  },
  {
   "cell_type": "markdown",
   "id": "24e2f7c1",
   "metadata": {},
   "source": [
    "Let's split our data up into a train and test set. This is time series data, so we can't use cross validation.\n",
    "\n",
    "We will train all the rows except the last 100 ones and once we get the training, we will predict by testing the last 100 ones."
   ]
  },
  {
   "cell_type": "code",
   "execution_count": 22,
   "id": "241d4274",
   "metadata": {},
   "outputs": [
    {
     "data": {
      "text/plain": [
       "RandomForestClassifier(min_samples_split=100, random_state=1)"
      ]
     },
     "execution_count": 22,
     "metadata": {},
     "output_type": "execute_result"
    }
   ],
   "source": [
    "#Create a list with all of the colums that we are going to use to predict the target.\n",
    "predictors = [\"Close\",\"Volume\", \"Open\",\"High\",\"Low\"]\n",
    "model.fit(train[predictors],train[\"Target\"])"
   ]
  },
  {
   "cell_type": "markdown",
   "id": "122df37d",
   "metadata": {},
   "source": [
    "## Measure the accuracy of the model "
   ]
  },
  {
   "cell_type": "code",
   "execution_count": 23,
   "id": "108e57ec",
   "metadata": {},
   "outputs": [],
   "source": [
    "from sklearn.metrics import precision_score"
   ]
  },
  {
   "cell_type": "markdown",
   "id": "4e18584b",
   "metadata": {},
   "source": [
    "Precision_score says if the target really go up (1) when the market go up. What percentage of the time when we said the market would go up did it actually go up."
   ]
  },
  {
   "cell_type": "code",
   "execution_count": 24,
   "id": "04bc73db",
   "metadata": {},
   "outputs": [],
   "source": [
    "preds = model.predict(test[predictors])"
   ]
  },
  {
   "cell_type": "code",
   "execution_count": 27,
   "id": "57303417",
   "metadata": {},
   "outputs": [],
   "source": [
    "preds = pd.Series(preds, index=test.index)"
   ]
  },
  {
   "cell_type": "code",
   "execution_count": 28,
   "id": "40029201",
   "metadata": {},
   "outputs": [
    {
     "data": {
      "text/plain": [
       "Date\n",
       "2024-11-29 00:00:00-05:00    1\n",
       "2024-12-02 00:00:00-05:00    1\n",
       "2024-12-03 00:00:00-05:00    1\n",
       "2024-12-04 00:00:00-05:00    1\n",
       "2024-12-05 00:00:00-05:00    1\n",
       "                            ..\n",
       "2025-04-21 00:00:00-04:00    1\n",
       "2025-04-22 00:00:00-04:00    1\n",
       "2025-04-23 00:00:00-04:00    1\n",
       "2025-04-24 00:00:00-04:00    1\n",
       "2025-04-25 00:00:00-04:00    1\n",
       "Length: 100, dtype: int64"
      ]
     },
     "execution_count": 28,
     "metadata": {},
     "output_type": "execute_result"
    }
   ],
   "source": [
    "preds"
   ]
  },
  {
   "cell_type": "code",
   "execution_count": 29,
   "id": "f5d24e00",
   "metadata": {},
   "outputs": [
    {
     "data": {
      "text/plain": [
       "0.5050505050505051"
      ]
     },
     "execution_count": 29,
     "metadata": {},
     "output_type": "execute_result"
    }
   ],
   "source": [
    "precision_score(test[\"Target\"], preds)"
   ]
  },
  {
   "cell_type": "markdown",
   "id": "b1c7b54e",
   "metadata": {},
   "source": [
    "This is actually not a very good precision score. The stock price will only go up 50,51% of the time. We are going to make this model better and we will be able to get more accurate predictions."
   ]
  },
  {
   "cell_type": "code",
   "execution_count": 30,
   "id": "55ae4cc5",
   "metadata": {},
   "outputs": [],
   "source": [
    "#Plot our predictions combining our actual values with our predicted values.\n",
    "combined = pd.concat([test[\"Target\"],preds], axis=1)"
   ]
  },
  {
   "cell_type": "code",
   "execution_count": 31,
   "id": "4dbcd841",
   "metadata": {},
   "outputs": [
    {
     "data": {
      "text/plain": [
       "<AxesSubplot:xlabel='Date'>"
      ]
     },
     "execution_count": 31,
     "metadata": {},
     "output_type": "execute_result"
    },
    {
     "data": {
      "image/png": "[encoded data removed]",
      "text/plain": [
       "<Figure size 432x288 with 1 Axes>"
      ]
     },
     "metadata": {
      "needs_background": "light"
     },
     "output_type": "display_data"
    }
   ],
   "source": [
    "combined.plot()"
   ]
  },
  {
   "cell_type": "markdown",
   "id": "05b04d59",
   "metadata": {},
   "source": [
    "The orange line is our predictions and the blue line is what actually happened. We mostly predicted that the market would go up and mostly it seems to have gone down. That's why our predictions were so far off."
   ]
  },
  {
   "cell_type": "markdown",
   "id": "d3c2f6d6",
   "metadata": {},
   "source": [
    "# 5. Backtesting system"
   ]
  },
  {
   "cell_type": "markdown",
   "id": "dbc21fd7",
   "metadata": {},
   "source": [
    "We will build a more robust way to test our algorithm. Currently we're only able to test against the last 100 days. If we are really building a stock price model and we want to use it in the real world we want to be able to test across multiple years of data because we want to know how our algorith is going to handle a lot of different situacions. That gives us more confidence that it will work in the future."
   ]
  },
  {
   "cell_type": "code",
   "execution_count": 40,
   "id": "8b34cb3c",
   "metadata": {},
   "outputs": [],
   "source": [
    "def predict(train, test, predictors, model):\n",
    "    model.fit(train[predictors], train[\"Target\"])\n",
    "    preds = model.predict(test[predictors])\n",
    "    preds = pd.Series(preds, index = test.index, name = \"Predictions\")\n",
    "    combined = pd.concat([test[\"Target\"], preds], axis=1)\n",
    "    return combined"
   ]
  },
  {
   "cell_type": "code",
   "execution_count": 41,
   "id": "7ae51930",
   "metadata": {},
   "outputs": [],
   "source": [
    "def backtest(data, model, predictors, start=2500, step=250):\n",
    "    all_predictions = []\n",
    "    \n",
    "    for i in range(start, data.shape[0], step):\n",
    "        train = data.iloc[0:i].copy()\n",
    "        test = data.iloc[i:(i+step)].copy()\n",
    "        predictions = predict(train, test, predictors, model)\n",
    "        all_predictions.append(predictions)\n",
    "    \n",
    "    return pd.concat(all_predictions)"
   ]
  },
  {
   "cell_type": "markdown",
   "id": "6ab88761",
   "metadata": {},
   "source": [
    "Every trading year has 250 days, so we are taking 10 years of data. The steps mean that we will train a model for about a year and then going for the next year and going for the next year. We are going yo take the first 10 years of data and predict values for the 11th year, then we will take the fist 11 years of data and predict values for the 12th year, then we will take the first 12 years of data and predict values for the 13th year and so on. By doing this, we will actually get predictions for a lot of different years and be able to have more confidence on our model\n"
   ]
  },
  {
   "cell_type": "code",
   "execution_count": 42,
   "id": "f8d2a7e6",
   "metadata": {},
   "outputs": [],
   "source": [
    "predictions = backtest(sp500, model, predictors)"
   ]
  },
  {
   "cell_type": "code",
   "execution_count": 43,
   "id": "3817e714",
   "metadata": {},
   "outputs": [
    {
     "data": {
      "text/plain": [
       "0    3736\n",
       "1    2659\n",
       "Name: Predictions, dtype: int64"
      ]
     },
     "execution_count": 43,
     "metadata": {},
     "output_type": "execute_result"
    }
   ],
   "source": [
    "#How many days we predicted the market would go up versus down\n",
    "predictions[\"Predictions\"].value_counts()"
   ]
  },
  {
   "cell_type": "markdown",
   "id": "2604853d",
   "metadata": {},
   "source": [
    "The market would go up on about 2659 days and go down on about 3736 days."
   ]
  },
  {
   "cell_type": "code",
   "execution_count": 45,
   "id": "5ab211b4",
   "metadata": {},
   "outputs": [
    {
     "data": {
      "text/plain": [
       "0.5291462955998496"
      ]
     },
     "execution_count": 45,
     "metadata": {},
     "output_type": "execute_result"
    }
   ],
   "source": [
    "precision_score(predictions[\"Target\"], predictions[\"Predictions\"])"
   ]
  },
  {
   "cell_type": "markdown",
   "id": "9964e004",
   "metadata": {},
   "source": [
    "So when we say the market would go up it went up 52,91% of the times."
   ]
  },
  {
   "cell_type": "code",
   "execution_count": 47,
   "id": "7d8541e9",
   "metadata": {},
   "outputs": [
    {
     "data": {
      "text/plain": [
       "1    0.535887\n",
       "0    0.464113\n",
       "Name: Target, dtype: float64"
      ]
     },
     "execution_count": 47,
     "metadata": {},
     "output_type": "execute_result"
    }
   ],
   "source": [
    "predictions[\"Target\"].value_counts() / predictions.shape[0]"
   ]
  },
  {
   "cell_type": "markdown",
   "id": "3c792ffa",
   "metadata": {},
   "source": [
    "As the benchmark what we can look at is the percentage of days where the market actually went up. The S&P 500  in the days we were looking at actually went up 53.6% of days and went down 46.4% of days. \n",
    "\n",
    "This algorithm performed a little bit worse than just the natural percentage of days that the stock market went up."
   ]
  },
  {
   "cell_type": "markdown",
   "id": "f6de9d28",
   "metadata": {},
   "source": [
    "# 6. Additional predictors"
   ]
  },
  {
   "cell_type": "code",
   "execution_count": 48,
   "id": "33db9466",
   "metadata": {},
   "outputs": [],
   "source": [
    "horizons = [2,5,60,250,1000]"
   ]
  },
  {
   "cell_type": "markdown",
   "id": "a3a1645c",
   "metadata": {},
   "source": [
    "We will calculate the mean price in the last 2 days, the last week (5 trading days), the last two months (60 trading days), the last year (250 trading days) and the last 4 years (1000 trading days).\n",
    "\n",
    "Then we will find the ratio between today's closing price and the closing price in those periods, which will help us know if the market is going up a ton because if so it may be bue for a downturn, has the market gone down a ton if so it may be due for an upswing. So we are giving the algorithm more information to help it make better predictions."
   ]
  },
  {
   "cell_type": "code",
   "execution_count": 51,
   "id": "51a3cd05",
   "metadata": {},
   "outputs": [],
   "source": [
    "new_predictors = []\n",
    "\n",
    "for horizon in horizons:\n",
    "    rolling_averages = sp500.rolling(horizon).mean()\n",
    "    \n",
    "    ratio_column = f\"Close_Ratio_{horizon}\" #Call ratio column as Close Ratio (horizon)\n",
    "    sp500[ratio_column] = sp500[\"Close\"] / rolling_averages[\"Close\"]\n",
    "    \n",
    "    trend_column = f\"Trend_{horizon}\" #Call trend column as Trend (horizon), is the number of days in the past horizon days that the stock price went up\n",
    "    sp500[trend_column] = sp500.shift(1).rolling(horizon).sum()[\"Target\"]\n",
    "    \n",
    "    new_predictors += [ratio_column, trend_column]"
   ]
  },
  {
   "cell_type": "code",
   "execution_count": 53,
   "id": "0340d96d",
   "metadata": {},
   "outputs": [],
   "source": [
    "sp500 = sp500.dropna()"
   ]
  },
  {
   "cell_type": "code",
   "execution_count": 54,
   "id": "b41e9fa2",
   "metadata": {},
   "outputs": [
    {
     "data": {
      "text/html": [
       "<div>\n",
       "<style scoped>\n",
       "    .dataframe tbody tr th:only-of-type {\n",
       "        vertical-align: middle;\n",
       "    }\n",
       "\n",
       "    .dataframe tbody tr th {\n",
       "        vertical-align: top;\n",
       "    }\n",
       "\n",
       "    .dataframe thead th {\n",
       "        text-align: right;\n",
       "    }\n",
       "</style>\n",
       "<table border=\"1\" class=\"dataframe\">\n",
       "  <thead>\n",
       "    <tr style=\"text-align: right;\">\n",
       "      <th></th>\n",
       "      <th>Open</th>\n",
       "      <th>High</th>\n",
       "      <th>Low</th>\n",
       "      <th>Close</th>\n",
       "      <th>Volume</th>\n",
       "      <th>Tomorrow</th>\n",
       "      <th>Target</th>\n",
       "      <th>Close_Ratio_2</th>\n",
       "      <th>Trend_2</th>\n",
       "      <th>Close_Ratio_5</th>\n",
       "      <th>Trend_5</th>\n",
       "      <th>Close_Ratio_60</th>\n",
       "      <th>Trend_60</th>\n",
       "      <th>Close_Ratio_250</th>\n",
       "      <th>Trend_250</th>\n",
       "      <th>Close_Ratio_1000</th>\n",
       "      <th>Trend_1000</th>\n",
       "    </tr>\n",
       "    <tr>\n",
       "      <th>Date</th>\n",
       "      <th></th>\n",
       "      <th></th>\n",
       "      <th></th>\n",
       "      <th></th>\n",
       "      <th></th>\n",
       "      <th></th>\n",
       "      <th></th>\n",
       "      <th></th>\n",
       "      <th></th>\n",
       "      <th></th>\n",
       "      <th></th>\n",
       "      <th></th>\n",
       "      <th></th>\n",
       "      <th></th>\n",
       "      <th></th>\n",
       "      <th></th>\n",
       "      <th></th>\n",
       "    </tr>\n",
       "  </thead>\n",
       "  <tbody>\n",
       "    <tr>\n",
       "      <th>1993-12-14 00:00:00-05:00</th>\n",
       "      <td>465.730011</td>\n",
       "      <td>466.119995</td>\n",
       "      <td>462.459991</td>\n",
       "      <td>463.059998</td>\n",
       "      <td>275050000</td>\n",
       "      <td>461.839996</td>\n",
       "      <td>0</td>\n",
       "      <td>0.997157</td>\n",
       "      <td>1.0</td>\n",
       "      <td>0.996617</td>\n",
       "      <td>1.0</td>\n",
       "      <td>1.000283</td>\n",
       "      <td>32.0</td>\n",
       "      <td>1.028047</td>\n",
       "      <td>127.0</td>\n",
       "      <td>1.176082</td>\n",
       "      <td>512.0</td>\n",
       "    </tr>\n",
       "    <tr>\n",
       "      <th>1993-12-15 00:00:00-05:00</th>\n",
       "      <td>463.059998</td>\n",
       "      <td>463.690002</td>\n",
       "      <td>461.839996</td>\n",
       "      <td>461.839996</td>\n",
       "      <td>331770000</td>\n",
       "      <td>463.339996</td>\n",
       "      <td>1</td>\n",
       "      <td>0.998681</td>\n",
       "      <td>0.0</td>\n",
       "      <td>0.995899</td>\n",
       "      <td>1.0</td>\n",
       "      <td>0.997329</td>\n",
       "      <td>32.0</td>\n",
       "      <td>1.025151</td>\n",
       "      <td>126.0</td>\n",
       "      <td>1.172676</td>\n",
       "      <td>512.0</td>\n",
       "    </tr>\n",
       "    <tr>\n",
       "      <th>1993-12-16 00:00:00-05:00</th>\n",
       "      <td>461.859985</td>\n",
       "      <td>463.980011</td>\n",
       "      <td>461.859985</td>\n",
       "      <td>463.339996</td>\n",
       "      <td>284620000</td>\n",
       "      <td>466.380005</td>\n",
       "      <td>1</td>\n",
       "      <td>1.001621</td>\n",
       "      <td>1.0</td>\n",
       "      <td>0.999495</td>\n",
       "      <td>2.0</td>\n",
       "      <td>1.000311</td>\n",
       "      <td>32.0</td>\n",
       "      <td>1.028274</td>\n",
       "      <td>127.0</td>\n",
       "      <td>1.176163</td>\n",
       "      <td>513.0</td>\n",
       "    </tr>\n",
       "    <tr>\n",
       "      <th>1993-12-17 00:00:00-05:00</th>\n",
       "      <td>463.339996</td>\n",
       "      <td>466.380005</td>\n",
       "      <td>463.339996</td>\n",
       "      <td>466.380005</td>\n",
       "      <td>363750000</td>\n",
       "      <td>465.850006</td>\n",
       "      <td>0</td>\n",
       "      <td>1.003270</td>\n",
       "      <td>2.0</td>\n",
       "      <td>1.004991</td>\n",
       "      <td>3.0</td>\n",
       "      <td>1.006561</td>\n",
       "      <td>32.0</td>\n",
       "      <td>1.034781</td>\n",
       "      <td>128.0</td>\n",
       "      <td>1.183537</td>\n",
       "      <td>514.0</td>\n",
       "    </tr>\n",
       "    <tr>\n",
       "      <th>1993-12-20 00:00:00-05:00</th>\n",
       "      <td>466.380005</td>\n",
       "      <td>466.899994</td>\n",
       "      <td>465.529999</td>\n",
       "      <td>465.850006</td>\n",
       "      <td>255900000</td>\n",
       "      <td>465.299988</td>\n",
       "      <td>0</td>\n",
       "      <td>0.999431</td>\n",
       "      <td>1.0</td>\n",
       "      <td>1.003784</td>\n",
       "      <td>2.0</td>\n",
       "      <td>1.005120</td>\n",
       "      <td>32.0</td>\n",
       "      <td>1.033359</td>\n",
       "      <td>128.0</td>\n",
       "      <td>1.181856</td>\n",
       "      <td>513.0</td>\n",
       "    </tr>\n",
       "    <tr>\n",
       "      <th>...</th>\n",
       "      <td>...</td>\n",
       "      <td>...</td>\n",
       "      <td>...</td>\n",
       "      <td>...</td>\n",
       "      <td>...</td>\n",
       "      <td>...</td>\n",
       "      <td>...</td>\n",
       "      <td>...</td>\n",
       "      <td>...</td>\n",
       "      <td>...</td>\n",
       "      <td>...</td>\n",
       "      <td>...</td>\n",
       "      <td>...</td>\n",
       "      <td>...</td>\n",
       "      <td>...</td>\n",
       "      <td>...</td>\n",
       "      <td>...</td>\n",
       "    </tr>\n",
       "    <tr>\n",
       "      <th>2025-04-17 00:00:00-04:00</th>\n",
       "      <td>5305.450195</td>\n",
       "      <td>5328.310059</td>\n",
       "      <td>5255.580078</td>\n",
       "      <td>5282.700195</td>\n",
       "      <td>4714880000</td>\n",
       "      <td>5158.200195</td>\n",
       "      <td>0</td>\n",
       "      <td>1.000663</td>\n",
       "      <td>1.0</td>\n",
       "      <td>0.988368</td>\n",
       "      <td>3.0</td>\n",
       "      <td>0.916556</td>\n",
       "      <td>29.0</td>\n",
       "      <td>0.933819</td>\n",
       "      <td>143.0</td>\n",
       "      <td>1.133282</td>\n",
       "      <td>525.0</td>\n",
       "    </tr>\n",
       "    <tr>\n",
       "      <th>2025-04-21 00:00:00-04:00</th>\n",
       "      <td>5232.939941</td>\n",
       "      <td>5232.939941</td>\n",
       "      <td>5101.629883</td>\n",
       "      <td>5158.200195</td>\n",
       "      <td>4226340000</td>\n",
       "      <td>5287.759766</td>\n",
       "      <td>1</td>\n",
       "      <td>0.988076</td>\n",
       "      <td>1.0</td>\n",
       "      <td>0.972541</td>\n",
       "      <td>2.0</td>\n",
       "      <td>0.897447</td>\n",
       "      <td>28.0</td>\n",
       "      <td>0.911688</td>\n",
       "      <td>143.0</td>\n",
       "      <td>1.106343</td>\n",
       "      <td>525.0</td>\n",
       "    </tr>\n",
       "    <tr>\n",
       "      <th>2025-04-22 00:00:00-04:00</th>\n",
       "      <td>5207.669922</td>\n",
       "      <td>5309.609863</td>\n",
       "      <td>5207.669922</td>\n",
       "      <td>5287.759766</td>\n",
       "      <td>4666950000</td>\n",
       "      <td>5375.859863</td>\n",
       "      <td>1</td>\n",
       "      <td>1.012403</td>\n",
       "      <td>1.0</td>\n",
       "      <td>1.001432</td>\n",
       "      <td>2.0</td>\n",
       "      <td>0.922164</td>\n",
       "      <td>29.0</td>\n",
       "      <td>0.934404</td>\n",
       "      <td>143.0</td>\n",
       "      <td>1.133863</td>\n",
       "      <td>526.0</td>\n",
       "    </tr>\n",
       "    <tr>\n",
       "      <th>2025-04-23 00:00:00-04:00</th>\n",
       "      <td>5395.919922</td>\n",
       "      <td>5469.689941</td>\n",
       "      <td>5356.169922</td>\n",
       "      <td>5375.859863</td>\n",
       "      <td>5371390000</td>\n",
       "      <td>5484.770020</td>\n",
       "      <td>1</td>\n",
       "      <td>1.008262</td>\n",
       "      <td>2.0</td>\n",
       "      <td>1.018919</td>\n",
       "      <td>3.0</td>\n",
       "      <td>0.939266</td>\n",
       "      <td>30.0</td>\n",
       "      <td>0.949767</td>\n",
       "      <td>143.0</td>\n",
       "      <td>1.152466</td>\n",
       "      <td>526.0</td>\n",
       "    </tr>\n",
       "    <tr>\n",
       "      <th>2025-04-24 00:00:00-04:00</th>\n",
       "      <td>5381.379883</td>\n",
       "      <td>5489.399902</td>\n",
       "      <td>5371.959961</td>\n",
       "      <td>5484.770020</td>\n",
       "      <td>4697710000</td>\n",
       "      <td>5525.209961</td>\n",
       "      <td>1</td>\n",
       "      <td>1.010028</td>\n",
       "      <td>2.0</td>\n",
       "      <td>1.031387</td>\n",
       "      <td>4.0</td>\n",
       "      <td>0.959924</td>\n",
       "      <td>30.0</td>\n",
       "      <td>0.968726</td>\n",
       "      <td>143.0</td>\n",
       "      <td>1.175486</td>\n",
       "      <td>527.0</td>\n",
       "    </tr>\n",
       "  </tbody>\n",
       "</table>\n",
       "<p>7894 rows × 17 columns</p>\n",
       "</div>"
      ],
      "text/plain": [
       "                                  Open         High          Low        Close  \\\n",
       "Date                                                                            \n",
       "1993-12-14 00:00:00-05:00   465.730011   466.119995   462.459991   463.059998   \n",
       "1993-12-15 00:00:00-05:00   463.059998   463.690002   461.839996   461.839996   \n",
       "1993-12-16 00:00:00-05:00   461.859985   463.980011   461.859985   463.339996   \n",
       "1993-12-17 00:00:00-05:00   463.339996   466.380005   463.339996   466.380005   \n",
       "1993-12-20 00:00:00-05:00   466.380005   466.899994   465.529999   465.850006   \n",
       "...                                ...          ...          ...          ...   \n",
       "2025-04-17 00:00:00-04:00  5305.450195  5328.310059  5255.580078  5282.700195   \n",
       "2025-04-21 00:00:00-04:00  5232.939941  5232.939941  5101.629883  5158.200195   \n",
       "2025-04-22 00:00:00-04:00  5207.669922  5309.609863  5207.669922  5287.759766   \n",
       "2025-04-23 00:00:00-04:00  5395.919922  5469.689941  5356.169922  5375.859863   \n",
       "2025-04-24 00:00:00-04:00  5381.379883  5489.399902  5371.959961  5484.770020   \n",
       "\n",
       "                               Volume     Tomorrow  Target  Close_Ratio_2  \\\n",
       "Date                                                                        \n",
       "1993-12-14 00:00:00-05:00   275050000   461.839996       0       0.997157   \n",
       "1993-12-15 00:00:00-05:00   331770000   463.339996       1       0.998681   \n",
       "1993-12-16 00:00:00-05:00   284620000   466.380005       1       1.001621   \n",
       "1993-12-17 00:00:00-05:00   363750000   465.850006       0       1.003270   \n",
       "1993-12-20 00:00:00-05:00   255900000   465.299988       0       0.999431   \n",
       "...                               ...          ...     ...            ...   \n",
       "2025-04-17 00:00:00-04:00  4714880000  5158.200195       0       1.000663   \n",
       "2025-04-21 00:00:00-04:00  4226340000  5287.759766       1       0.988076   \n",
       "2025-04-22 00:00:00-04:00  4666950000  5375.859863       1       1.012403   \n",
       "2025-04-23 00:00:00-04:00  5371390000  5484.770020       1       1.008262   \n",
       "2025-04-24 00:00:00-04:00  4697710000  5525.209961       1       1.010028   \n",
       "\n",
       "                           Trend_2  Close_Ratio_5  Trend_5  Close_Ratio_60  \\\n",
       "Date                                                                         \n",
       "1993-12-14 00:00:00-05:00      1.0       0.996617      1.0        1.000283   \n",
       "1993-12-15 00:00:00-05:00      0.0       0.995899      1.0        0.997329   \n",
       "1993-12-16 00:00:00-05:00      1.0       0.999495      2.0        1.000311   \n",
       "1993-12-17 00:00:00-05:00      2.0       1.004991      3.0        1.006561   \n",
       "1993-12-20 00:00:00-05:00      1.0       1.003784      2.0        1.005120   \n",
       "...                            ...            ...      ...             ...   \n",
       "2025-04-17 00:00:00-04:00      1.0       0.988368      3.0        0.916556   \n",
       "2025-04-21 00:00:00-04:00      1.0       0.972541      2.0        0.897447   \n",
       "2025-04-22 00:00:00-04:00      1.0       1.001432      2.0        0.922164   \n",
       "2025-04-23 00:00:00-04:00      2.0       1.018919      3.0        0.939266   \n",
       "2025-04-24 00:00:00-04:00      2.0       1.031387      4.0        0.959924   \n",
       "\n",
       "                           Trend_60  Close_Ratio_250  Trend_250  \\\n",
       "Date                                                              \n",
       "1993-12-14 00:00:00-05:00      32.0         1.028047      127.0   \n",
       "1993-12-15 00:00:00-05:00      32.0         1.025151      126.0   \n",
       "1993-12-16 00:00:00-05:00      32.0         1.028274      127.0   \n",
       "1993-12-17 00:00:00-05:00      32.0         1.034781      128.0   \n",
       "1993-12-20 00:00:00-05:00      32.0         1.033359      128.0   \n",
       "...                             ...              ...        ...   \n",
       "2025-04-17 00:00:00-04:00      29.0         0.933819      143.0   \n",
       "2025-04-21 00:00:00-04:00      28.0         0.911688      143.0   \n",
       "2025-04-22 00:00:00-04:00      29.0         0.934404      143.0   \n",
       "2025-04-23 00:00:00-04:00      30.0         0.949767      143.0   \n",
       "2025-04-24 00:00:00-04:00      30.0         0.968726      143.0   \n",
       "\n",
       "                           Close_Ratio_1000  Trend_1000  \n",
       "Date                                                     \n",
       "1993-12-14 00:00:00-05:00          1.176082       512.0  \n",
       "1993-12-15 00:00:00-05:00          1.172676       512.0  \n",
       "1993-12-16 00:00:00-05:00          1.176163       513.0  \n",
       "1993-12-17 00:00:00-05:00          1.183537       514.0  \n",
       "1993-12-20 00:00:00-05:00          1.181856       513.0  \n",
       "...                                     ...         ...  \n",
       "2025-04-17 00:00:00-04:00          1.133282       525.0  \n",
       "2025-04-21 00:00:00-04:00          1.106343       525.0  \n",
       "2025-04-22 00:00:00-04:00          1.133863       526.0  \n",
       "2025-04-23 00:00:00-04:00          1.152466       526.0  \n",
       "2025-04-24 00:00:00-04:00          1.175486       527.0  \n",
       "\n",
       "[7894 rows x 17 columns]"
      ]
     },
     "execution_count": 54,
     "metadata": {},
     "output_type": "execute_result"
    }
   ],
   "source": [
    "sp500"
   ]
  },
  {
   "cell_type": "markdown",
   "id": "a498b00c",
   "metadata": {},
   "source": [
    "# 7. Improving the model"
   ]
  },
  {
   "cell_type": "code",
   "execution_count": 55,
   "id": "7c3d085a",
   "metadata": {},
   "outputs": [],
   "source": [
    "model = RandomForestClassifier(n_estimators=200, min_samples_split=50, random_state=1)"
   ]
  },
  {
   "cell_type": "code",
   "execution_count": 59,
   "id": "ba0258b8",
   "metadata": {},
   "outputs": [],
   "source": [
    "def predict(train, test, predictors, model):\n",
    "    model.fit(train[predictors], train[\"Target\"])\n",
    "    preds = model.predict_proba(test[predictors])[:,1] #model.predit:return 0 or 1, model.predict_proba: return a probability of 0 or 1\n",
    "                                                       #the second column will be the probability the stock price goes up\n",
    "    preds[preds >= .6] = 1 #Set a custom threshold, if there's greater than a 60% that the price will go up the model will return that the price will gp up.\n",
    "    preds[preds < .6] = 0  #This will reduce our total number of trading days so it will reduce the number of days that it predicts the price will go up but it will increase the chance that the price will actually go up on those days\n",
    "    preds = pd.Series(preds, index = test.index, name = \"Predictions\")\n",
    "    combined = pd.concat([test[\"Target\"], preds], axis=1)\n",
    "    return combined"
   ]
  },
  {
   "cell_type": "code",
   "execution_count": 60,
   "id": "2e65068a",
   "metadata": {},
   "outputs": [],
   "source": [
    "predictions = backtest(sp500,model,new_predictors)"
   ]
  },
  {
   "cell_type": "code",
   "execution_count": 61,
   "id": "92066fe0",
   "metadata": {},
   "outputs": [
    {
     "data": {
      "text/plain": [
       "0.0    4525\n",
       "1.0     869\n",
       "Name: Predictions, dtype: int64"
      ]
     },
     "execution_count": 61,
     "metadata": {},
     "output_type": "execute_result"
    }
   ],
   "source": [
    "predictions[\"Predictions\"].value_counts()"
   ]
  },
  {
   "cell_type": "markdown",
   "id": "b7660cc9",
   "metadata": {},
   "source": [
    "We changed the threshold and we asked the model to be more confident in its predictions before it actually predicted the price would go up. This means that we are actually going to be trading we are going to be buyin stock on fewer days."
   ]
  },
  {
   "cell_type": "code",
   "execution_count": 63,
   "id": "78927ccb",
   "metadata": {},
   "outputs": [
    {
     "data": {
      "text/plain": [
       "0.5742232451093211"
      ]
     },
     "execution_count": 63,
     "metadata": {},
     "output_type": "execute_result"
    }
   ],
   "source": [
    "precision_score(predictions[\"Target\"],predictions[\"Predictions\"])"
   ]
  },
  {
   "cell_type": "markdown",
   "id": "d54fa421",
   "metadata": {},
   "source": [
    "When the model predicts that the price will go up 57% of the time, it will actually go up. This may not seem good but it is actually pretty good especially given that we are just looking at time series data and we are just looking at historical prices of the index. I would not recommend using this model to go make trades, there are more things we can add to it to make it more accurate. However, the result obtained is good given the data we were given to work with and it is better than our baseline. We actually improved our model from 50,51% to 57,42%."
   ]
  }
 ],
 "metadata": {
  "kernelspec": {
   "display_name": "Python 3 (ipykernel)",
   "language": "python",
   "name": "python3"
  },
  "language_info": {
   "codemirror_mode": {
    "name": "ipython",
    "version": 3
   },
   "file_extension": ".py",
   "mimetype": "text/x-python",
   "name": "python",
   "nbconvert_exporter": "python",
   "pygments_lexer": "ipython3",
   "version": "3.9.12"
  }
 },
 "nbformat": 4,
 "nbformat_minor": 5
}
